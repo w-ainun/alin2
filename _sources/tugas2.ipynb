{
 "cells": [
  {
   "attachments": {
    "image.png": {
     "image/png": "[encoded data removed]"
    }
   },
   "cell_type": "markdown",
   "metadata": {},
   "source": [
    "### **PENGERTIAN MATRIKS**\n",
    "\n",
    "Matriks adalah kumpulan bilangan yang disusun dalam baris dan kolom. Secara formal, matriks dapat dijelaskan sebagai sebuah array persegi panjang yang terdiri dari elemen-elemen yang disusun dalam baris dan kolom. Setiap elemen dalam matriks dapat diidentifikasi oleh indeks baris dan kolomnya. Misalnya, sebuah matriks  A  dengan m  baris dan n kolom dapat ditulis sebagai:\n",
    "\n",
    "![image.png](attachment:image.png)\n",
    "\n",
    "Di mana \\( a_{ij} \\) merupakan elemen pada baris ke-\\( i \\) dan kolom ke-\\( j \\).\n",
    "\n",
    "Matriks sering digunakan dalam berbagai bidang seperti matematika, fisika, teknik, dan ilmu komputer untuk merepresentasikan dan menyelesaikan berbagai masalah. Matriks digunakan dalam berbagai aplikasi seperti sistem persamaan linear, transformasi geometri, analisis jaringan, dan pemrograman linier.\n",
    "\n",
    "Berikut adalah beberapa contoh perumpamaan yang dapat membantu Anda memahami konsep matriks secara lebih mendalam:\n",
    "\n",
    "### **1. Sistem Persamaan Linear** \n",
    "      \n",
    "   Bayangkan Anda memiliki sebuah sistem persamaan linear, misalnya:     \n",
    "   2x + 3y = 8    \n",
    "   4x + 2y = 6     \n",
    "   Anda dapat merepresentasikan koefisien dari variabel \\( x \\) dan \\( y \\) dalam bentuk matriks:     \n",
    "   $$\n",
    "   \\begin{bmatrix}\n",
    "   2 & 3 \\\\\n",
    "   4 & -2\n",
    "   \\end{bmatrix}\n",
    "   $$\n",
    "   $$\n",
    "   \\begin{bmatrix}\n",
    "   x \\\\\n",
    "   y\n",
    "   \\end{bmatrix}\n",
    "   $$\n",
    "   =\n",
    "   $$\n",
    "   \\begin{bmatrix}\n",
    "   8 \\\\\n",
    "   6\n",
    "   \\end{bmatrix}\n",
    "   $$\n",
    "   Di sini, matriks koefisien digunakan untuk mengalikan vektor variabel \\( x \\) dan \\( y \\) sehingga hasilnya sama dengan vektor hasil.\n",
    "\n",
    "### **2. Transformasi Geometri**:\n",
    "   Ketika Anda melakukan transformasi geometri seperti rotasi, translasi, atau dilatasi pada suatu objek, Anda dapat menggunakan matriks transformasi untuk merepresentasikan perubahan yang terjadi. Misalnya, jika Anda ingin memutar sebuah vektor dua dimensi \\( \\begin{bmatrix} x \\\\ y \\end{bmatrix} \\) sebesar \\( \\theta \\) derajat searah jarum jam, Anda dapat menggunakan matriks rotasi:\n",
    "   \n",
    " \n",
    "   \n",
    "\n",
    "### **3. Analisis Jaringan**:\n",
    "   Dalam analisis jaringan, matriks dapat digunakan untuk merepresentasikan hubungan antar simpul (node) dalam sebuah jaringan. Misalnya, dalam jaringan transportasi, setiap elemen matriks dapat mewakili biaya atau jarak antara dua simpul yang terhubung.\n",
    "\n",
    "### **4. Pemrograman Linier**:\n",
    "   Dalam pemrograman linier, matriks digunakan untuk merepresentasikan koefisien dari fungsi tujuan dan kendala-kendala dalam bentuk matriks dan vektor. Ini membantu dalam pemecahan masalah optimasi yang melibatkan pemaksimalan atau peminimalan fungsi tujuan dengan mempertimbangkan sejumlah kendala.\n",
    "\n",
    "Dengan memahami konsep matriks dan penerapannya dalam berbagai bidang, Anda dapat melihat betapa pentingnya matriks dalam merepresentasikan dan menyelesaikan berbagai masalah matematika dan komputasi."
   ]
  },
  {
   "cell_type": "markdown",
   "metadata": {},
   "source": [
    "#**JENIS JENIS MATRIKS**\n",
    "1. **Matriks Nol**:\n",
    "   Ini adalah matriks di mana semua elemennya adalah nol. Misalnya, matriks nol \\( 3 \\times 3 \\) ditulis sebagai:\n",
    "   \n",
    "   \\begin{bmatrix}\n",
    "   0 & 0 & 0 \\\\\n",
    "   0 & 0 & 0 \\\\\n",
    "   0 & 0 & 0\n",
    "   \\end{bmatrix}\n",
    "   \n",
    "\n",
    "2. **Matriks Baris**:\n",
    "   Ini adalah matriks dengan satu baris dan beberapa kolom. Misalnya, sebuah matriks baris \\( 1 \\times 4 \\) adalah:\n",
    "   \n",
    "   \\begin{bmatrix}\n",
    "   1 & 2 & 3 & 4\n",
    "   \\end{bmatrix}\n",
    "   \n",
    "\n",
    "3. **Matriks Kolom**:\n",
    "   Ini adalah matriks dengan satu kolom dan beberapa baris. Contohnya, sebuah matriks kolom \\( 3 \\times 1 \\) adalah:\n",
    "   \n",
    "   \\begin{bmatrix}\n",
    "   1 \\\\\n",
    "   2 \\\\\n",
    "   3\n",
    "   \\end{bmatrix}\n",
    "  \n",
    "\n",
    "4. **Matriks Persegi**:\n",
    "   Matriks yang memiliki jumlah baris sama dengan jumlah kolomnya. Misalnya, matriks persegi \\( 2 \\times 2 \\) adalah:\n",
    "  \n",
    "   \\begin{bmatrix}\n",
    "   1 & 2 \\\\\n",
    "   3 & 4\n",
    "   \\end{bmatrix}\n",
    "   \n",
    "\n",
    "5. **Matriks Diagonal**:\n",
    "   Matriks dengan elemen selain diagonal utamanya adalah nol. Contoh:\n",
    "   \n",
    "   \\begin{bmatrix}\n",
    "   1 & 0 & 0 \\\\\n",
    "   0 & 4 & 0 \\\\\n",
    "   0 & 0 & 7\n",
    "   \\end{bmatrix}\n",
    "   \n",
    "\n",
    "6. **Matriks Skalar**:\n",
    "   Matriks diagonal dengan semua elemen diagonal utamanya sama. Misalnya, matriks skalar \\( 3 \\times 3 \\) dengan skalar \\( 2 \\) adalah:\n",
    "   \n",
    "   \\begin{bmatrix}\n",
    "   2 & 0 & 0 \\\\\n",
    "   0 & 2 & 0 \\\\\n",
    "   0 & 0 & 2\n",
    "   \\end{bmatrix}\n",
    "   \n",
    "\n",
    "7. **Matriks Identitas**:\n",
    "   Ini adalah matriks skalar dengan elemen diagonal utamanya semua sama dengan satu. Misalnya, matriks identitas \\( 3 \\times 3 \\) adalah:\n",
    "   \n",
    "   \\begin{bmatrix}\n",
    "   1 & 0 & 0 \\\\\n",
    "   0 & 1 & 0 \\\\\n",
    "   0 & 0 & 1\n",
    "   \\end{bmatrix}\n",
    "   \n",
    "\n",
    "8. **Matriks Simetris**:\n",
    "   Matriks persegi di mana setiap elemen selain elemen diagonalnya adalah simetris terhadap diagonal utama. Misalnya:\n",
    "   \n",
    "   \\begin{bmatrix}\n",
    "   1 & 2 & 3 \\\\\n",
    "   2 & 4 & 5 \\\\\n",
    "   3 & 5 & 6\n",
    "   \\end{bmatrix}\n",
    "   \n",
    "\n",
    "9. **Matriks Simetri Miring**:\n",
    "   Matriks di mana elemen di bawah diagonal utamanya adalah negatif dari elemen di atas diagonal utamanya. Contoh:\n",
    "   \n",
    "   \\begin{bmatrix}\n",
    "   0 & 1 & 2 \\\\\n",
    "   -1 & 0 & 3 \\\\\n",
    "   -2 & -3 & 0\n",
    "   \\end{bmatrix}\n",
    "   \n",
    "\n",
    "10. **Matriks Segitiga Atas**:\n",
    "    Matriks persegi di mana elemen-elemen di bawah diagonal utamanya adalah nol. Misalnya:\n",
    "    \n",
    "    \\begin{bmatrix}\n",
    "    1 & 2 & 3 \\\\\n",
    "    0 & 4 & 5 \\\\\n",
    "    0 & 0 & 6\n",
    "    \\end{bmatrix}\n",
    "    \n",
    "\n",
    "11. **Matriks Segitiga Bawah**:\n",
    "    Matriks persegi di mana elemen-elemen di atas diagonal utamanya adalah nol. Contoh:\n",
    "    \n",
    "    \\begin{bmatrix}\n",
    "    1 & 0 & 0 \\\\\n",
    "    4 & 5 & 0 \\\\\n",
    "    7 & 8 & 9\n",
    "    \\end{bmatrix}\n",
    "    \n",
    "\n",
    "12. **Matriks Transpose**:\n",
    "    Matriks yang diperoleh dengan menukar baris dan kolom. Misalnya, jika \\( A \\) adalah matriks \\( m x n \\), maka transpose \\( A \\) adalah matriks \\( n x m \\) dengan elemen-elemen \\( a_{ij} \\) menjadi \\( a_{ji} \\).\n",
    "\n",
    "Semua jenis matriks ini memiliki aplikasi dan sifat matematis yang berbeda-beda dan penting dalam berbagai bidang ilmu."
   ]
  },
  {
   "cell_type": "markdown",
   "metadata": {},
   "source": [
    "### **OPERASI MATRIKS**\n",
    "Operasi matriks adalah serangkaian operasi atau tindakan yang dilakukan pada matriks, baik itu untuk mengubah matriks ataupun menggabungkan matriks. Berikut beberapa operasi matriks yang sering digunakan:"
   ]
  },
  {
   "cell_type": "code",
   "execution_count": 1,
   "metadata": {},
   "outputs": [
    {
     "name": "stdout",
     "output_type": "stream",
     "text": [
      "A=\n",
      " [[ 4  2  1]\n",
      " [ 5  3  1]\n",
      " [ 2 -3  4]]\n",
      "B=\n",
      " [[ 3  2  6]\n",
      " [ 7  1  4]\n",
      " [ 2 -2  6]]\n",
      "C=\n",
      " [[ 5  2]\n",
      " [-4  7]\n",
      " [ 6  5]]\n"
     ]
    }
   ],
   "source": [
    "import numpy as np\n",
    "import sympy as sy\n",
    "\n",
    "a=np.array([[4,2,1],[5,3,1],[2,-3,4]])\n",
    "b=np.array([[3,2,6],[7,1,4],[2,-2,6]])\n",
    "c=np.array([[5,2],[-4,7],[6,5]])\n",
    "print('A=\\n',a)\n",
    "print('B=\\n',b)\n",
    "print('C=\\n',c)"
   ]
  },
  {
   "cell_type": "markdown",
   "metadata": {},
   "source": [
    "### **1.Penjumlahan matriks :**\n",
    "\n",
    "Operasi ini melibatkan penambahan elemen-elemen yang berada pada posisi yang sama dari dua matriks yang memiliki ordo yang sama. Artinya kedua matriks ini harus memiliki baris dan kolom yang sama.\n",
    "\n",
    "CONTOH PENJUMLAHAN MATRIKS A + B :\n",
    "matriks \\( A \\):\n",
    "$$\n",
    "A = \\begin{bmatrix}\n",
    "4 & 2 & 1 \\\\\n",
    "5 & 3 & 1 \\\\\n",
    "2 & -3 & 4\n",
    "\\end{bmatrix}\n",
    "$$\n",
    "\n",
    "\n",
    "Matriks \\( B \\):\n",
    "$$\n",
    "B = \\begin{bmatrix}\n",
    "3 & 2 & 6 \\\\\n",
    "7 & 1 & 4 \\\\\n",
    "2 & -2 & 6\n",
    "\\end{bmatrix}\n",
    "$$\n",
    "\n",
    "Hasil Penjumlahan Matriks \\( A \\) dan \\( B \\):\n",
    "$$\n",
    "A + B = \\begin{bmatrix}\n",
    "4+3 & 2+2 & 1+6 \\\\\n",
    "5+7 & 3+1 & 1+4 \\\\\n",
    "2+2 & -3-2 & 4+6\n",
    "\\end{bmatrix}  \n",
    "$$\n",
    "Jadi, hasil penjumlahan dari matriks \\( A \\) dan \\( B \\) adalah:\n",
    "$$\n",
    "A + B = \\begin{bmatrix}\n",
    "7 & 4 & 7 \\\\\n",
    "12 & 4 & 5 \\\\\n",
    "4 & -5 & 10\n",
    "\\end{bmatrix}\n",
    "$$\n",
    "\n",
    "BERIKUT PROGRAM UNTUK PENJUMLAHAN MATRIKS:\n",
    "\n"
   ]
  },
  {
   "cell_type": "code",
   "execution_count": 2,
   "metadata": {},
   "outputs": [
    {
     "name": "stdout",
     "output_type": "stream",
     "text": [
      "A+B=\n",
      " [[ 7  4  7]\n",
      " [12  4  5]\n",
      " [ 4 -5 10]]\n",
      "B+A=\n",
      " [[ 7  4  7]\n",
      " [12  4  5]\n",
      " [ 4 -5 10]]\n",
      "Sifat di atas merupakan sifat komutatif karena A+B = B+A\n"
     ]
    }
   ],
   "source": [
    "print('A+B=\\n',a+b)\n",
    "print('B+A=\\n',b+a)\n",
    "print('Sifat di atas merupakan sifat komutatif karena A+B = B+A')"
   ]
  },
  {
   "cell_type": "markdown",
   "metadata": {},
   "source": [
    "##**2.Pengurangan Matriks:**\n",
    "\n",
    "Operasi ini melibatkan pengurangan elemen-elemen yang berada pada posisi yang sama dari dua matriks yang memiliki ordo yang sama. Artinya kedua matriks ini harus memiliki baris dan kolom yang sama.\n",
    "\n",
    "CONTOH PENGURANGAN MATRIKS:   \n",
    "Matriks \\( A \\):\n",
    "$$\n",
    "A = \\begin{bmatrix}\n",
    "4 & 2 & 1 \\\\\n",
    "5 & 3 & 1 \\\\\n",
    "2 & -3 & 4\n",
    "\\end{bmatrix}\n",
    "$$\n",
    "\n",
    "Matriks \\( B \\):\n",
    "$$\n",
    "B = \\begin{bmatrix}\n",
    "3 & 2 & 6 \\\\\n",
    "7 & 1 & 4 \\\\\n",
    "2 & -2 & 6\n",
    "\\end{bmatrix}\n",
    "$$\n",
    "\n",
    "Hasil Pengurangan Matriks \\( A \\) dan \\( B \\):\n",
    "$$\n",
    "A - B = \\begin{bmatrix}\n",
    "4-3 & 2-2 & 1-6 \\\\\n",
    "5-7 & 3-1 & 1-4 \\\\\n",
    "2-2 & -3-(-2) & 4-6\n",
    "\\end{bmatrix}\n",
    "$$\n",
    "Jadi, hasil pengurangan dari matriks \\( A \\) dan \\( B \\) adalah:\n",
    "$$\n",
    "A - B = \\begin{bmatrix}\n",
    "1 & 0 & -5 \\\\\n",
    "-2 & 2 & -3 \\\\\n",
    "0 & -1 & -2\n",
    "\\end{bmatrix}\n",
    "$$\n",
    "BERIKUT PROGRAM UNTUK PENGURANGAN MATRIKS:"
   ]
  },
  {
   "cell_type": "code",
   "execution_count": 3,
   "metadata": {},
   "outputs": [
    {
     "name": "stdout",
     "output_type": "stream",
     "text": [
      "A-B=\n",
      " [[ 1  0 -5]\n",
      " [-2  2 -3]\n",
      " [ 0 -1 -2]]\n",
      "B-A=\n",
      " [[-1  0  5]\n",
      " [ 2 -2  3]\n",
      " [ 0  1  2]]\n",
      "Sifat di BUKAN merupakan sifat komutatif karena A-B TIDAK SAMA DENGAN B-A\n"
     ]
    }
   ],
   "source": [
    "print('A-B=\\n',a-b)\n",
    "print('B-A=\\n',b-a)\n",
    "print('Sifat di BUKAN merupakan sifat komutatif karena A-B TIDAK SAMA DENGAN B-A')"
   ]
  },
  {
   "cell_type": "markdown",
   "metadata": {},
   "source": [
    "##**3.Perkalian Matriks:**\n",
    "\n",
    "Operasi ini melibatkan perkalian elemen-elemen matriks. Untuk melakukan perkalian matriks A dan B, jumlah kolom dalam matriks A harus sama dengan jumlah baris dalam matriks B. Contoh matriks A memiliki ordo atau ukuran mxn, maka matriks B harus memiliki ordo atau ukuran nxp. Sehingga hasil dari perkalian tersebut akan menghasilkan matriks baru dengan ukuran mxp. Hasilnya akan memiliki jumlah baris yang sama dengan matriks A dan jumlah kolom yang sama dengan matriks B.\n",
    "\n",
    "CONTOH PERKALIAN MATRIKS:\n",
    "\n",
    "\n",
    "Dengan menggunakan matriks \\(A\\) dan \\(B\\) yang Anda berikan, mari kita hitung hasil perkalian \\(A \\times B\\):\n",
    "\n",
    " A = \n",
    " $$\\begin{bmatrix} 4 & 2 & 1 \\\\ 5 & 3 & 1 \\\\ 2 & -3 & 4 \\end{bmatrix} $$\n",
    "\n",
    " B = \n",
    " $$\\begin{bmatrix} 3 & 2 & 6 \\\\ 7 & 1 & 4 \\\\ 2 & -2 & 6 \\end{bmatrix}$$\n",
    "\n",
    "Untuk menghitung hasil perkalian matriks, kita dapat menggunakan aturan perkalian matriks, yaitu mengalikan setiap elemen baris pertama dari matriks \\(A\\) dengan setiap elemen kolom pertama dari matriks \\(B\\), dan seterusnya.\n",
    "\n",
    "\n",
    "A × B = \n",
    "$$\\begin{bmatrix} 4 \\times 3 + 2 \\times 7 + 1 \\times 2 & 4 \\times 2 + 2 \\times 1 + 1 \\times (-2) & 4 \\times 6 + 2 \\times 4 + 1 \\times 6 \\\\ 5 \\times 3 + 3 \\times 7 + 1 \\times 2 & 5 \\times 2 + 3 \\times 1 + 1 \\times (-2) & 5 \\times 6 + 3 \\times 4 + 1 \\times 6 \\\\ 2 \\times 3 + (-3) \\times 7 + 4 \\times 2 & 2 \\times 2 + (-3) \\times 1 + 4 \\times (-2) & 2 \\times 6 + (-3) \\times 4 + 4 \\times 6 \\end{bmatrix}$$\n",
    "\n",
    "\n",
    "\n",
    "\n",
    "Jadi, hasil perkalian matriks \\(A\\) dan \\(B\\) adalah:\n",
    "\n",
    " A x B = \n",
    " $$\\begin{bmatrix} 24 & 2 & 32 \\\\ 38 & 3 & 44 \\\\ -13 & -12 & 10 \\end{bmatrix}$$\n",
    "\n",
    "BERIKUT PROGRAM UNTUK PERKALIAN MATRIKS:"
   ]
  },
  {
   "cell_type": "code",
   "execution_count": 4,
   "metadata": {},
   "outputs": [
    {
     "name": "stdout",
     "output_type": "stream",
     "text": [
      "AB=\n",
      " [[28  8 38]\n",
      " [38 11 48]\n",
      " [-7 -7 24]]\n",
      "AC=\n",
      " [[18 27]\n",
      " [19 36]\n",
      " [46  3]]\n",
      "BC=\n",
      " [[43 50]\n",
      " [55 41]\n",
      " [54 20]]\n"
     ]
    }
   ],
   "source": [
    "print('AB=\\n',a@b)\n",
    "print('AC=\\n',a@c)\n",
    "print('BC=\\n',b@c)"
   ]
  },
  {
   "cell_type": "markdown",
   "metadata": {},
   "source": [
    "- Sifat Asosiasi:\n",
    "\n",
    "  (AB)C = A(BC)"
   ]
  },
  {
   "cell_type": "code",
   "execution_count": 5,
   "metadata": {},
   "outputs": [
    {
     "name": "stdout",
     "output_type": "stream",
     "text": [
      "A(BC) =\n",
      " [[336 302]\n",
      " [434 393]\n",
      " [137  57]]\n",
      "(AB)C =\n",
      " [[336 302]\n",
      " [434 393]\n",
      " [137  57]]\n"
     ]
    }
   ],
   "source": [
    "print('A(BC) =\\n', a@(b@c))\n",
    "print('(AB)C =\\n',(a@b)@c)"
   ]
  },
  {
   "cell_type": "markdown",
   "metadata": {},
   "source": [
    "- Perkalian skalar:\n",
    "\n",
    "  c(AB) = (cA)B = A(cB)"
   ]
  },
  {
   "cell_type": "code",
   "execution_count": 6,
   "metadata": {},
   "outputs": [
    {
     "name": "stdout",
     "output_type": "stream",
     "text": [
      "c(AB)\n",
      " [[ 84  24 114]\n",
      " [114  33 144]\n",
      " [-21 -21  72]]\n",
      "(cA)B\n",
      " [[ 84  24 114]\n",
      " [114  33 144]\n",
      " [-21 -21  72]]\n",
      "A(cB)\n",
      " [[ 84  24 114]\n",
      " [114  33 144]\n",
      " [-21 -21  72]]\n"
     ]
    }
   ],
   "source": [
    "c = 3\n",
    "print('c(AB)\\n',c*(a@b))\n",
    "print('(cA)B\\n',(c*a)@b)\n",
    "print('A(cB)\\n',a@(c*b))"
   ]
  },
  {
   "cell_type": "markdown",
   "metadata": {},
   "source": [
    "- Perkalian identitas:\n",
    "\n",
    "  AI = IA = A"
   ]
  },
  {
   "cell_type": "code",
   "execution_count": 7,
   "metadata": {},
   "outputs": [
    {
     "name": "stdout",
     "output_type": "stream",
     "text": [
      "AI=\n",
      " [[ 4  2  1]\n",
      " [ 5  3  1]\n",
      " [ 2 -3  4]]\n",
      "IA=\n",
      " [[ 4  2  1]\n",
      " [ 5  3  1]\n",
      " [ 2 -3  4]]\n",
      "A=\n",
      " [[ 4  2  1]\n",
      " [ 5  3  1]\n",
      " [ 2 -3  4]]\n"
     ]
    }
   ],
   "source": [
    "i = np.array([[1,0,0],[0,1,0],[0,0,1]])\n",
    "print('AI=\\n',a@i)\n",
    "print('IA=\\n',i@a)\n",
    "print('A=\\n',a)"
   ]
  },
  {
   "cell_type": "markdown",
   "metadata": {},
   "source": [
    "- Tidak berlaku sifat kumutatif:\n",
    "\n",
    "  AB != BA atau AB tidak sama dengan BA"
   ]
  },
  {
   "cell_type": "code",
   "execution_count": 8,
   "metadata": {},
   "outputs": [
    {
     "name": "stdout",
     "output_type": "stream",
     "text": [
      "AB=\n",
      " [[28  8 38]\n",
      " [38 11 48]\n",
      " [-7 -7 24]]\n",
      "BA=\n",
      " [[ 34  -6  29]\n",
      " [ 41   5  24]\n",
      " [ 10 -20  24]]\n"
     ]
    }
   ],
   "source": [
    "print('AB=\\n',a@b)\n",
    "print('BA=\\n',b@a)"
   ]
  },
  {
   "cell_type": "markdown",
   "metadata": {},
   "source": [
    "##**4.Transpose Matriks**\n",
    "\n",
    "Transpose matriks adalah matriks baru yang diperoleh dengan cara menukar elemen-elemen baris menjadi elemen kolom atau sebaliknya. Jika sebuah matriks berukuran M X N, maka transpose matriks tersebut memiliki ordo N X M.\n",
    "\n",
    "CONTOH TRANSPOSE MATRIKS:\n",
    "$$\n",
    "\\begin{align*}\n",
    "C=\n",
    "\\begin{bmatrix}\n",
    "3&4\\\\\n",
    "-2&4\\\\\n",
    "2&5\n",
    "\\end{bmatrix}\n",
    "&&\n",
    "CT (C Transposre)=\n",
    "\\begin{bmatrix}\n",
    "3&-2&2\\\\\n",
    "4&4&-5\n",
    "\\end{bmatrix}\n",
    "\\end{align*}\n",
    "$$\n",
    "BERIKUT PROGRAM UNTUK MENG-TRANSPOSE MATRIKS:"
   ]
  },
  {
   "cell_type": "code",
   "execution_count": 9,
   "metadata": {},
   "outputs": [
    {
     "name": "stdout",
     "output_type": "stream",
     "text": [
      "matrik c sebelum di transpose=\n",
      " [[ 3  4]\n",
      " [-2  4]\n",
      " [ 2  5]]\n",
      "matrik c setelah di transpose=\n",
      " [[ 3 -2  2]\n",
      " [ 4  4  5]]\n",
      "ordo C_transpose adalah (2, 3)\n",
      "Z = C_transpose x C =\n",
      " [[17 14]\n",
      " [14 57]]\n",
      "ordo z adalah (2, 2)\n",
      "P = C_transpose x C =\n",
      " [[25 10 26]\n",
      " [10 20 16]\n",
      " [26 16 29]]\n",
      "ordo P adalah (3, 3)\n",
      "Dapat disimpulkan bahwa C_transpose X C tidak sama dengan C X C_transpose\n"
     ]
    }
   ],
   "source": [
    "c=np.array([[3,4],[-2,4],[2,5]])\n",
    "c_tran = c.transpose()\n",
    "print('matrik c sebelum di transpose=\\n', c)\n",
    "print('matrik c setelah di transpose=\\n',c_tran)\n",
    "print('ordo C_transpose adalah',c_tran.shape)\n",
    "z=c_tran@c\n",
    "print('Z = C_transpose x C =\\n',z)\n",
    "print('ordo z adalah',z.shape)\n",
    "p=c@c_tran\n",
    "print('P = C_transpose x C =\\n',p)\n",
    "print('ordo P adalah',p.shape)\n",
    "print(\"Dapat disimpulkan bahwa C_transpose X C tidak sama dengan C X C_transpose\")"
   ]
  },
  {
   "cell_type": "markdown",
   "metadata": {},
   "source": [
    "PROGRAM UNTUK MENGALIKAN MATRIKS"
   ]
  },
  {
   "cell_type": "code",
   "execution_count": 10,
   "metadata": {},
   "outputs": [
    {
     "name": "stdout",
     "output_type": "stream",
     "text": [
      "Berikut adalah contoh matriks\n",
      "\n",
      "matriks 1=([[2,3,2],[4,1,-3],[-1,-2,2]])\n",
      "matriks 1=([[2,4,7],[6,-3,2],[5,-2,7]])\n",
      "\n",
      "\n",
      "Hasil perkalian matriks:\n",
      "[32, -5, 34]\n",
      "[-1, 19, 9]\n",
      "[-4, -2, 3]\n"
     ]
    }
   ],
   "source": [
    "def perkalian(matrix1, matrix2):\n",
    "    if len(matrix1[0]) != len(matrix2):\n",
    "        print(\"Perkalian matriks tidak dapat dilakukan karena jumlah kolom dalam matriks pertama tidak sama dengan jumlah baris dalam matriks kedua\")\n",
    "        return None\n",
    "    result = [[0 for _ in range(len(matrix2[0]))] for _ in range(len(matrix1))]\n",
    "    for i in range(len(matrix1)):\n",
    "        for j in range(len(matrix2[0])):\n",
    "            for k in range(len(matrix2)):\n",
    "                result[i][j] += matrix1[i][k] * matrix2[k][j]\n",
    "    return result\n",
    "\n",
    "def tampilan_hasil(matrix):\n",
    "    for baris in matrix:\n",
    "        print(baris)\n",
    "\n",
    "#JIKA USER INGIN MENGINPUTKAN MATRIKSNYA SENDIRI BISA MENGGUNAKAN CODE DIBAWAH INI :\n",
    "\"\"\"def input_matrix():\n",
    "    baris = int(input(\"Masukkan jumlah baris: \"))\n",
    "    kolom = int(input(\"Masukkan jumlah kolom: \"))\n",
    "    matrix = []\n",
    "    for i in range(baris):\n",
    "        row = []\n",
    "        print(f\"Masukkan elemen untuk baris {i + 1}: \")\n",
    "        for j in range(kolom):\n",
    "            element = float(input(f\"Elemen [{i + 1}, {j + 1}]: \"))\n",
    "            row.append(element)\n",
    "        matrix.append(row)\n",
    "    return matrix\n",
    "\n",
    "print(\"Program perkalian matriks!!\")\n",
    "print(\"Masukkan matriks pertama:\")\n",
    "matriks1 = input_matrix()\n",
    "print (\"Matriks 1 = \", matriks1)\n",
    "print(\"Masukkan matriks kedua:\")\n",
    "matriks2 = input_matrix()\n",
    "print (\"Matriks 2 = \",matriks2)\n",
    "test = perkalian(matriks1, matriks2)\n",
    "print(\"\\nHasil perkalian matriks:\")\n",
    "tampilan_hasil(test)\"\"\"\n",
    "\n",
    "\n",
    "print (\"Berikut adalah contoh matriks\")\n",
    "print (\"\"\"\n",
    "matriks 1=([[2,3,2],[4,1,-3],[-1,-2,2]])\n",
    "matriks 1=([[2,4,7],[6,-3,2],[5,-2,7]])\n",
    "\"\"\")\n",
    "matriks1=([[2,3,2],[4,1,-3],[-1,-2,2]])\n",
    "matriks2=([[2,4,7],[6,-3,2],[5,-2,7]])\n",
    "test = perkalian(matriks1, matriks2)\n",
    "print(\"\\nHasil perkalian matriks:\")\n",
    "tampilan_hasil(test)\n"
   ]
  }
 ],
 "metadata": {
  "kernelspec": {
   "display_name": "Python 3 (ipykernel)",
   "language": "python",
   "name": "python3"
  },
  "language_info": {
   "codemirror_mode": {
    "name": "ipython",
    "version": 3
   },
   "file_extension": ".py",
   "mimetype": "text/x-python",
   "name": "python",
   "nbconvert_exporter": "python",
   "pygments_lexer": "ipython3",
   "version": "3.10.13"
  }
 },
 "nbformat": 4,
 "nbformat_minor": 2
}
